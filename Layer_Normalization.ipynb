{
  "nbformat": 4,
  "nbformat_minor": 0,
  "metadata": {
    "colab": {
      "name": "Layer Normalization.ipynb",
      "provenance": [],
      "authorship_tag": "ABX9TyMnU7rnKK5tzCI+6hcaa51F",
      "include_colab_link": true
    },
    "kernelspec": {
      "name": "python3",
      "display_name": "Python 3"
    }
  },
  "cells": [
    {
      "cell_type": "markdown",
      "metadata": {
        "id": "view-in-github",
        "colab_type": "text"
      },
      "source": [
        "<a href=\"https://colab.research.google.com/github/hazelhkim/Deep-Learning/blob/master/Layer_Normalization.ipynb\" target=\"_parent\"><img src=\"https://colab.research.google.com/assets/colab-badge.svg\" alt=\"Open In Colab\"/></a>"
      ]
    },
    {
      "cell_type": "markdown",
      "metadata": {
        "id": "PfbOCr3HOsRB",
        "colab_type": "text"
      },
      "source": [
        "# Layer Normalization\n",
        "https://arxiv.org/pdf/1607.06450.pdf"
      ]
    },
    {
      "cell_type": "markdown",
      "metadata": {
        "id": "Gix-qpDMOvsN",
        "colab_type": "text"
      },
      "source": [
        "Training state-of-the-art, deep neural networks is computationally expensive. One\n",
        "way to reduce the training time is to normalize the activities of the neurons. "
      ]
    },
    {
      "cell_type": "markdown",
      "metadata": {
        "id": "vIslB09AO4Gb",
        "colab_type": "text"
      },
      "source": [
        "\n",
        "\n",
        "*   **Batch normalization** \n",
        "  - Uses the distribution of the summed input to a neuron over a mini-batch of training cases to compute a mean and variance which are then used to normalize the summed input to that neuron on each training case. This significantly reduces the training time in feedforward neural networks. \n",
        "*   **Limitation of Previous Batch Normalization** \n",
        "   - The effect of batch normalization is dependent on the mini-batch size and it is not obvious how to apply it to recurrent neural networks. \n",
        "* **Proposed Solution**\n",
        "  - Transpose batch normalization into layer normalization by computing the mean and variance used for normalization from all of the summed inputs to the neurons in a layer on a single training case. \n",
        "  - Like batch normalization, the new idea gives each neuron its own adaptive bias and gain which are applied after the normalization but before the non-linearity.\n",
        "  - Unlike batch normalization, *layer normalization* performs exactly the same computation at training and test times.  \n",
        "* Straightforward to apply to recurrent neural networks by computing the normalization statistics separately at each time step. \n",
        "  - Layer normalization is very effective at stabilizing the hidden state dynamics in recurrent networks. \n",
        "* Layer normalization can substantially reduce the training time compared with previously published techniques. (empirically showed.)\n"
      ]
    }
  ]
}